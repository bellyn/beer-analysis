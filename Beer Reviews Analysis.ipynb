{
 "cells": [
  {
   "cell_type": "markdown",
   "metadata": {},
   "source": [
    "<h1> Beer Review Analysis </h1>\n",
    "\n",
    "- Which brewery produces the strongest beers by ABV%?\n",
    "- If you had to pick 3 beers to recommend using only this data, which would you pick?\n",
    "- Which of the factors (aroma, taste, appearance, palette) are most important in determining the overall quality of a beer?\n",
    "- Lastly, if I typically enjoy a beer due to its aroma and appearance, which beer style should I try?"
   ]
  },
  {
   "cell_type": "code",
   "execution_count": 1,
   "metadata": {},
   "outputs": [
    {
     "data": {
      "text/html": [
       "<div>\n",
       "<style scoped>\n",
       "    .dataframe tbody tr th:only-of-type {\n",
       "        vertical-align: middle;\n",
       "    }\n",
       "\n",
       "    .dataframe tbody tr th {\n",
       "        vertical-align: top;\n",
       "    }\n",
       "\n",
       "    .dataframe thead th {\n",
       "        text-align: right;\n",
       "    }\n",
       "</style>\n",
       "<table border=\"1\" class=\"dataframe\">\n",
       "  <thead>\n",
       "    <tr style=\"text-align: right;\">\n",
       "      <th></th>\n",
       "      <th>brewery_id</th>\n",
       "      <th>brewery_name</th>\n",
       "      <th>review_time</th>\n",
       "      <th>review_overall</th>\n",
       "      <th>review_aroma</th>\n",
       "      <th>review_appearance</th>\n",
       "      <th>review_profilename</th>\n",
       "      <th>beer_style</th>\n",
       "      <th>review_palate</th>\n",
       "      <th>review_taste</th>\n",
       "      <th>beer_name</th>\n",
       "      <th>beer_abv</th>\n",
       "      <th>beer_beerid</th>\n",
       "    </tr>\n",
       "  </thead>\n",
       "  <tbody>\n",
       "    <tr>\n",
       "      <th>0</th>\n",
       "      <td>10325</td>\n",
       "      <td>Vecchio Birraio</td>\n",
       "      <td>2009-02-16 20:57:03</td>\n",
       "      <td>1.5</td>\n",
       "      <td>2.0</td>\n",
       "      <td>2.5</td>\n",
       "      <td>stcules</td>\n",
       "      <td>Hefeweizen</td>\n",
       "      <td>1.5</td>\n",
       "      <td>1.5</td>\n",
       "      <td>Sausa Weizen</td>\n",
       "      <td>5.0</td>\n",
       "      <td>47986</td>\n",
       "    </tr>\n",
       "    <tr>\n",
       "      <th>1</th>\n",
       "      <td>10325</td>\n",
       "      <td>Vecchio Birraio</td>\n",
       "      <td>2009-03-01 13:44:57</td>\n",
       "      <td>3.0</td>\n",
       "      <td>2.5</td>\n",
       "      <td>3.0</td>\n",
       "      <td>stcules</td>\n",
       "      <td>English Strong Ale</td>\n",
       "      <td>3.0</td>\n",
       "      <td>3.0</td>\n",
       "      <td>Red Moon</td>\n",
       "      <td>6.2</td>\n",
       "      <td>48213</td>\n",
       "    </tr>\n",
       "    <tr>\n",
       "      <th>2</th>\n",
       "      <td>10325</td>\n",
       "      <td>Vecchio Birraio</td>\n",
       "      <td>2009-03-01 14:10:04</td>\n",
       "      <td>3.0</td>\n",
       "      <td>2.5</td>\n",
       "      <td>3.0</td>\n",
       "      <td>stcules</td>\n",
       "      <td>Foreign / Export Stout</td>\n",
       "      <td>3.0</td>\n",
       "      <td>3.0</td>\n",
       "      <td>Black Horse Black Beer</td>\n",
       "      <td>6.5</td>\n",
       "      <td>48215</td>\n",
       "    </tr>\n",
       "    <tr>\n",
       "      <th>3</th>\n",
       "      <td>10325</td>\n",
       "      <td>Vecchio Birraio</td>\n",
       "      <td>2009-02-15 19:12:25</td>\n",
       "      <td>3.0</td>\n",
       "      <td>3.0</td>\n",
       "      <td>3.5</td>\n",
       "      <td>stcules</td>\n",
       "      <td>German Pilsener</td>\n",
       "      <td>2.5</td>\n",
       "      <td>3.0</td>\n",
       "      <td>Sausa Pils</td>\n",
       "      <td>5.0</td>\n",
       "      <td>47969</td>\n",
       "    </tr>\n",
       "    <tr>\n",
       "      <th>4</th>\n",
       "      <td>1075</td>\n",
       "      <td>Caldera Brewing Company</td>\n",
       "      <td>2010-12-30 18:53:26</td>\n",
       "      <td>4.0</td>\n",
       "      <td>4.5</td>\n",
       "      <td>4.0</td>\n",
       "      <td>johnmichaelsen</td>\n",
       "      <td>American Double / Imperial IPA</td>\n",
       "      <td>4.0</td>\n",
       "      <td>4.5</td>\n",
       "      <td>Cauldron DIPA</td>\n",
       "      <td>7.7</td>\n",
       "      <td>64883</td>\n",
       "    </tr>\n",
       "    <tr>\n",
       "      <th>5</th>\n",
       "      <td>1075</td>\n",
       "      <td>Caldera Brewing Company</td>\n",
       "      <td>2012-01-02 17:17:39</td>\n",
       "      <td>3.0</td>\n",
       "      <td>3.5</td>\n",
       "      <td>3.5</td>\n",
       "      <td>oline73</td>\n",
       "      <td>Herbed / Spiced Beer</td>\n",
       "      <td>3.0</td>\n",
       "      <td>3.5</td>\n",
       "      <td>Caldera Ginger Beer</td>\n",
       "      <td>4.7</td>\n",
       "      <td>52159</td>\n",
       "    </tr>\n",
       "    <tr>\n",
       "      <th>6</th>\n",
       "      <td>1075</td>\n",
       "      <td>Caldera Brewing Company</td>\n",
       "      <td>2011-10-19 02:25:15</td>\n",
       "      <td>3.5</td>\n",
       "      <td>3.5</td>\n",
       "      <td>3.5</td>\n",
       "      <td>Reidrover</td>\n",
       "      <td>Herbed / Spiced Beer</td>\n",
       "      <td>4.0</td>\n",
       "      <td>4.0</td>\n",
       "      <td>Caldera Ginger Beer</td>\n",
       "      <td>4.7</td>\n",
       "      <td>52159</td>\n",
       "    </tr>\n",
       "    <tr>\n",
       "      <th>7</th>\n",
       "      <td>1075</td>\n",
       "      <td>Caldera Brewing Company</td>\n",
       "      <td>2011-05-24 22:26:58</td>\n",
       "      <td>3.0</td>\n",
       "      <td>2.5</td>\n",
       "      <td>3.5</td>\n",
       "      <td>alpinebryant</td>\n",
       "      <td>Herbed / Spiced Beer</td>\n",
       "      <td>2.0</td>\n",
       "      <td>3.5</td>\n",
       "      <td>Caldera Ginger Beer</td>\n",
       "      <td>4.7</td>\n",
       "      <td>52159</td>\n",
       "    </tr>\n",
       "    <tr>\n",
       "      <th>8</th>\n",
       "      <td>1075</td>\n",
       "      <td>Caldera Brewing Company</td>\n",
       "      <td>2010-11-22 19:35:03</td>\n",
       "      <td>4.0</td>\n",
       "      <td>3.0</td>\n",
       "      <td>3.5</td>\n",
       "      <td>LordAdmNelson</td>\n",
       "      <td>Herbed / Spiced Beer</td>\n",
       "      <td>3.5</td>\n",
       "      <td>4.0</td>\n",
       "      <td>Caldera Ginger Beer</td>\n",
       "      <td>4.7</td>\n",
       "      <td>52159</td>\n",
       "    </tr>\n",
       "    <tr>\n",
       "      <th>9</th>\n",
       "      <td>1075</td>\n",
       "      <td>Caldera Brewing Company</td>\n",
       "      <td>2010-09-28 00:15:24</td>\n",
       "      <td>4.5</td>\n",
       "      <td>3.5</td>\n",
       "      <td>5.0</td>\n",
       "      <td>augustgarage</td>\n",
       "      <td>Herbed / Spiced Beer</td>\n",
       "      <td>4.0</td>\n",
       "      <td>4.0</td>\n",
       "      <td>Caldera Ginger Beer</td>\n",
       "      <td>4.7</td>\n",
       "      <td>52159</td>\n",
       "    </tr>\n",
       "  </tbody>\n",
       "</table>\n",
       "</div>"
      ],
      "text/plain": [
       "   brewery_id             brewery_name         review_time  review_overall  \\\n",
       "0       10325          Vecchio Birraio 2009-02-16 20:57:03             1.5   \n",
       "1       10325          Vecchio Birraio 2009-03-01 13:44:57             3.0   \n",
       "2       10325          Vecchio Birraio 2009-03-01 14:10:04             3.0   \n",
       "3       10325          Vecchio Birraio 2009-02-15 19:12:25             3.0   \n",
       "4        1075  Caldera Brewing Company 2010-12-30 18:53:26             4.0   \n",
       "5        1075  Caldera Brewing Company 2012-01-02 17:17:39             3.0   \n",
       "6        1075  Caldera Brewing Company 2011-10-19 02:25:15             3.5   \n",
       "7        1075  Caldera Brewing Company 2011-05-24 22:26:58             3.0   \n",
       "8        1075  Caldera Brewing Company 2010-11-22 19:35:03             4.0   \n",
       "9        1075  Caldera Brewing Company 2010-09-28 00:15:24             4.5   \n",
       "\n",
       "   review_aroma  review_appearance review_profilename  \\\n",
       "0           2.0                2.5            stcules   \n",
       "1           2.5                3.0            stcules   \n",
       "2           2.5                3.0            stcules   \n",
       "3           3.0                3.5            stcules   \n",
       "4           4.5                4.0     johnmichaelsen   \n",
       "5           3.5                3.5            oline73   \n",
       "6           3.5                3.5          Reidrover   \n",
       "7           2.5                3.5       alpinebryant   \n",
       "8           3.0                3.5      LordAdmNelson   \n",
       "9           3.5                5.0       augustgarage   \n",
       "\n",
       "                       beer_style  review_palate  review_taste  \\\n",
       "0                      Hefeweizen            1.5           1.5   \n",
       "1              English Strong Ale            3.0           3.0   \n",
       "2          Foreign / Export Stout            3.0           3.0   \n",
       "3                 German Pilsener            2.5           3.0   \n",
       "4  American Double / Imperial IPA            4.0           4.5   \n",
       "5            Herbed / Spiced Beer            3.0           3.5   \n",
       "6            Herbed / Spiced Beer            4.0           4.0   \n",
       "7            Herbed / Spiced Beer            2.0           3.5   \n",
       "8            Herbed / Spiced Beer            3.5           4.0   \n",
       "9            Herbed / Spiced Beer            4.0           4.0   \n",
       "\n",
       "                beer_name  beer_abv  beer_beerid  \n",
       "0            Sausa Weizen       5.0        47986  \n",
       "1                Red Moon       6.2        48213  \n",
       "2  Black Horse Black Beer       6.5        48215  \n",
       "3              Sausa Pils       5.0        47969  \n",
       "4           Cauldron DIPA       7.7        64883  \n",
       "5     Caldera Ginger Beer       4.7        52159  \n",
       "6     Caldera Ginger Beer       4.7        52159  \n",
       "7     Caldera Ginger Beer       4.7        52159  \n",
       "8     Caldera Ginger Beer       4.7        52159  \n",
       "9     Caldera Ginger Beer       4.7        52159  "
      ]
     },
     "execution_count": 1,
     "metadata": {},
     "output_type": "execute_result"
    }
   ],
   "source": [
    "import pandas as pd\n",
    "import numpy as np\n",
    "import matplotlib.pyplot as plt\n",
    "import seaborn as sns\n",
    "\n",
    "df = pd.read_csv(\"beer_reviews.csv\")\n",
    "df['review_time']= pd.to_datetime(df['review_time'],unit=\"s\")\n",
    "df.head(10)"
   ]
  },
  {
   "cell_type": "code",
   "execution_count": 2,
   "metadata": {},
   "outputs": [
    {
     "data": {
      "text/plain": [
       "13"
      ]
     },
     "execution_count": 2,
     "metadata": {},
     "output_type": "execute_result"
    }
   ],
   "source": [
    "len(df.columns)"
   ]
  },
  {
   "cell_type": "code",
   "execution_count": 3,
   "metadata": {},
   "outputs": [
    {
     "name": "stdout",
     "output_type": "stream",
     "text": [
      "brewery_id               5840\n",
      "brewery_name             5742\n",
      "review_time           1577960\n",
      "review_overall             10\n",
      "review_aroma                9\n",
      "review_appearance          10\n",
      "review_profilename      33387\n",
      "beer_style                104\n",
      "review_palate               9\n",
      "review_taste                9\n",
      "beer_name               56857\n",
      "beer_abv                  530\n",
      "beer_beerid             66055\n",
      "dtype: int64\n",
      "\n",
      "Duplicated rows:  0\n",
      "Total rows:  1586614\n",
      "Total columns:  13\n",
      "\n",
      "Missing Values : brewery_id                0\n",
      "brewery_name             15\n",
      "review_time               0\n",
      "review_overall            0\n",
      "review_aroma              0\n",
      "review_appearance         0\n",
      "review_profilename      348\n",
      "beer_style                0\n",
      "review_palate             0\n",
      "review_taste              0\n",
      "beer_name                 0\n",
      "beer_abv              67785\n",
      "beer_beerid               0\n",
      "dtype: int64\n"
     ]
    }
   ],
   "source": [
    "print(df.nunique())\n",
    "print(\"\")\n",
    "print(\"Duplicated rows: \", df.duplicated().sum())\n",
    "print(\"Total rows: \", df.shape[0])\n",
    "print(\"Total columns: \", df.shape[1])\n",
    "\n",
    "print(\"\\nMissing Values :\", df.isnull().sum())"
   ]
  },
  {
   "cell_type": "markdown",
   "metadata": {},
   "source": [
    "Initial impressions:\n",
    "\n",
    "\n",
    "* Each row corresponds to a review of a beer\n",
    "* There are more brewery_id than brewery_name, meaning there can be multiple id's for the same brewery\n",
    "* Same for beer_beerid, seems like there can be multiple ids for the same beer_name\n",
    "* There are more review_profilename than number of reviews, meaning there are multiple reviews per person\n",
    "* The rating scale has up to 10 unique values with 0.5 intervals between 0.0-5.0\n",
    "* Quite common for beer_abv to have a missing value\n",
    "* Reviews are dated and span multiple years"
   ]
  },
  {
   "cell_type": "code",
   "execution_count": 4,
   "metadata": {},
   "outputs": [],
   "source": [
    "# create unique review id for each row\n",
    "beer_df = df.reset_index() ####### CONVERT INDEX TO COLUMN"
   ]
  },
  {
   "cell_type": "code",
   "execution_count": 5,
   "metadata": {},
   "outputs": [
    {
     "name": "stdout",
     "output_type": "stream",
     "text": [
      "Missing beer_abv values: 4.27 %\n"
     ]
    }
   ],
   "source": [
    "print(\"Missing beer_abv values:\", round(beer_df[\"beer_abv\"].isnull().sum()/beer_df.shape[0]*100,2), \"%\")"
   ]
  },
  {
   "cell_type": "code",
   "execution_count": 6,
   "metadata": {},
   "outputs": [
    {
     "data": {
      "image/png": "[encoded data removed]",
      "text/plain": [
       "<Figure size 576x360 with 1 Axes>"
      ]
     },
     "metadata": {
      "needs_background": "light"
     },
     "output_type": "display_data"
    }
   ],
   "source": [
    "# check distribution of years\n",
    "\n",
    "beer_df[\"Year\"] = beer_df[\"review_time\"].dt.year\n",
    "\n",
    "plt.figure(figsize = (8,5))\n",
    "year_dist = sns.countplot(x=beer_df[\"Year\"])"
   ]
  },
  {
   "cell_type": "markdown",
   "metadata": {},
   "source": [
    "The reviews were gathered over 1996-2012, with partially incomplete data for entire 2012. Older reviews should be less relevant when it comes to recommendations, as the beers might no longer be produced, or have been renamed, or consumer taste has changed.\n",
    "\n",
    "Here the threshold will be set to filter for only the latest years of data (2006-2012)"
   ]
  },
  {
   "cell_type": "code",
   "execution_count": 213,
   "metadata": {},
   "outputs": [
    {
     "data": {
      "text/plain": [
       "0.8479447427036444"
      ]
     },
     "execution_count": 213,
     "metadata": {},
     "output_type": "execute_result"
    }
   ],
   "source": [
    "# filter out old data\n",
    "beer_df = beer_df[beer_df[\"Year\"]>=2006]\n",
    "beer_df.shape\n",
    "\n",
    "beer_df.shape[0]/df.shape[0]"
   ]
  },
  {
   "cell_type": "code",
   "execution_count": 8,
   "metadata": {},
   "outputs": [
    {
     "data": {
      "text/html": [
       "<div>\n",
       "<style scoped>\n",
       "    .dataframe tbody tr th:only-of-type {\n",
       "        vertical-align: middle;\n",
       "    }\n",
       "\n",
       "    .dataframe tbody tr th {\n",
       "        vertical-align: top;\n",
       "    }\n",
       "\n",
       "    .dataframe thead th {\n",
       "        text-align: right;\n",
       "    }\n",
       "</style>\n",
       "<table border=\"1\" class=\"dataframe\">\n",
       "  <thead>\n",
       "    <tr style=\"text-align: right;\">\n",
       "      <th></th>\n",
       "      <th>brewery_name</th>\n",
       "      <th>brewery_id</th>\n",
       "      <th>review_time</th>\n",
       "      <th>rank</th>\n",
       "    </tr>\n",
       "  </thead>\n",
       "  <tbody>\n",
       "    <tr>\n",
       "      <th>544013</th>\n",
       "      <td>BJ's Restaurant &amp; Brewery</td>\n",
       "      <td>3585</td>\n",
       "      <td>2007-08-19 21:38:00</td>\n",
       "      <td>1.0</td>\n",
       "    </tr>\n",
       "    <tr>\n",
       "      <th>536783</th>\n",
       "      <td>BJ's Restaurant &amp; Brewery</td>\n",
       "      <td>3232</td>\n",
       "      <td>2008-03-01 04:11:23</td>\n",
       "      <td>1.0</td>\n",
       "    </tr>\n",
       "    <tr>\n",
       "      <th>989783</th>\n",
       "      <td>BJ's Restaurant &amp; Brewery</td>\n",
       "      <td>9036</td>\n",
       "      <td>2006-12-03 11:37:34</td>\n",
       "      <td>1.0</td>\n",
       "    </tr>\n",
       "    <tr>\n",
       "      <th>394014</th>\n",
       "      <td>BJ's Restaurant &amp; Brewery</td>\n",
       "      <td>2711</td>\n",
       "      <td>2010-03-26 02:12:40</td>\n",
       "      <td>1.0</td>\n",
       "    </tr>\n",
       "    <tr>\n",
       "      <th>676184</th>\n",
       "      <td>BJ's Restaurant &amp; Brewhouse</td>\n",
       "      <td>27117</td>\n",
       "      <td>2011-11-09 20:50:13</td>\n",
       "      <td>1.0</td>\n",
       "    </tr>\n",
       "    <tr>\n",
       "      <th>...</th>\n",
       "      <td>...</td>\n",
       "      <td>...</td>\n",
       "      <td>...</td>\n",
       "      <td>...</td>\n",
       "    </tr>\n",
       "    <tr>\n",
       "      <th>203043</th>\n",
       "      <td>Two Rows Restaurant &amp; Brewery</td>\n",
       "      <td>1115</td>\n",
       "      <td>2009-02-25 15:18:36</td>\n",
       "      <td>1.0</td>\n",
       "    </tr>\n",
       "    <tr>\n",
       "      <th>738806</th>\n",
       "      <td>Water Street Brewery</td>\n",
       "      <td>1910</td>\n",
       "      <td>2011-07-11 14:50:54</td>\n",
       "      <td>1.0</td>\n",
       "    </tr>\n",
       "    <tr>\n",
       "      <th>1313271</th>\n",
       "      <td>Water Street Brewery</td>\n",
       "      <td>12789</td>\n",
       "      <td>2010-12-13 08:47:42</td>\n",
       "      <td>1.0</td>\n",
       "    </tr>\n",
       "    <tr>\n",
       "      <th>383840</th>\n",
       "      <td>Whitstran Brewing Company</td>\n",
       "      <td>19868</td>\n",
       "      <td>2011-11-05 23:37:23</td>\n",
       "      <td>1.0</td>\n",
       "    </tr>\n",
       "    <tr>\n",
       "      <th>981123</th>\n",
       "      <td>Whitstran Brewing Company</td>\n",
       "      <td>9226</td>\n",
       "      <td>2009-04-13 03:22:40</td>\n",
       "      <td>1.0</td>\n",
       "    </tr>\n",
       "  </tbody>\n",
       "</table>\n",
       "<p>138 rows × 4 columns</p>\n",
       "</div>"
      ],
      "text/plain": [
       "                          brewery_name  brewery_id         review_time  rank\n",
       "544013       BJ's Restaurant & Brewery        3585 2007-08-19 21:38:00   1.0\n",
       "536783       BJ's Restaurant & Brewery        3232 2008-03-01 04:11:23   1.0\n",
       "989783       BJ's Restaurant & Brewery        9036 2006-12-03 11:37:34   1.0\n",
       "394014       BJ's Restaurant & Brewery        2711 2010-03-26 02:12:40   1.0\n",
       "676184     BJ's Restaurant & Brewhouse       27117 2011-11-09 20:50:13   1.0\n",
       "...                                ...         ...                 ...   ...\n",
       "203043   Two Rows Restaurant & Brewery        1115 2009-02-25 15:18:36   1.0\n",
       "738806            Water Street Brewery        1910 2011-07-11 14:50:54   1.0\n",
       "1313271           Water Street Brewery       12789 2010-12-13 08:47:42   1.0\n",
       "383840       Whitstran Brewing Company       19868 2011-11-05 23:37:23   1.0\n",
       "981123       Whitstran Brewing Company        9226 2009-04-13 03:22:40   1.0\n",
       "\n",
       "[138 rows x 4 columns]"
      ]
     },
     "execution_count": 8,
     "metadata": {},
     "output_type": "execute_result"
    }
   ],
   "source": [
    "# check why brewery_name and brewery_id doesn't line up\n",
    "\n",
    "# create df of brewery_names and number of unique id counts\n",
    "brewery_id_unique_counts_df = beer_df.groupby(\"brewery_name\").agg({\"brewery_id\": pd.Series.nunique}).sort_values(by=\"brewery_id\", ascending=False)\n",
    "brewery_id_unique_counts_df = brewery_id_unique_counts_df.reset_index()\n",
    "brewery_id_unique_counts_df.columns = [\"brewery_name\",\"nunique_of_brewery_id\"]\n",
    "brewery_id_unique_counts_df = brewery_id_unique_counts_df[brewery_id_unique_counts_df[\"nunique_of_brewery_id\"]>1]\n",
    "\n",
    "# create df of non-unique brewery_names and the brewery_id\n",
    "brewery_id_non_unique_df = beer_df[beer_df[\"brewery_name\"].isin(brewery_id_unique_counts_df[\"brewery_name\"])][[\"brewery_name\",\"brewery_id\",\"review_time\"]]\n",
    "brewery_id_non_unique_df[\"rank\"] = brewery_id_non_unique_df.groupby([\"brewery_name\",\"brewery_id\"])[\"brewery_id\"].rank(method=\"first\", ascending=True)\n",
    "brewery_id_non_unique_df[brewery_id_non_unique_df[\"rank\"] == 1].sort_values(by=\"brewery_name\")\n",
    "\n"
   ]
  },
  {
   "cell_type": "code",
   "execution_count": 9,
   "metadata": {},
   "outputs": [
    {
     "data": {
      "text/html": [
       "<div>\n",
       "<style scoped>\n",
       "    .dataframe tbody tr th:only-of-type {\n",
       "        vertical-align: middle;\n",
       "    }\n",
       "\n",
       "    .dataframe tbody tr th {\n",
       "        vertical-align: top;\n",
       "    }\n",
       "\n",
       "    .dataframe thead th {\n",
       "        text-align: right;\n",
       "    }\n",
       "</style>\n",
       "<table border=\"1\" class=\"dataframe\">\n",
       "  <thead>\n",
       "    <tr style=\"text-align: right;\">\n",
       "      <th></th>\n",
       "      <th>brewery_name</th>\n",
       "      <th>beer_name</th>\n",
       "      <th>beer_beerid</th>\n",
       "      <th>review_time</th>\n",
       "      <th>rank</th>\n",
       "    </tr>\n",
       "  </thead>\n",
       "  <tbody>\n",
       "    <tr>\n",
       "      <th>394014</th>\n",
       "      <td>BJ's Restaurant &amp; Brewery</td>\n",
       "      <td>Blonde</td>\n",
       "      <td>57096</td>\n",
       "      <td>2010-03-26 02:12:40</td>\n",
       "      <td>1.0</td>\n",
       "    </tr>\n",
       "    <tr>\n",
       "      <th>536991</th>\n",
       "      <td>BJ's Restaurant &amp; Brewery</td>\n",
       "      <td>Blonde</td>\n",
       "      <td>41271</td>\n",
       "      <td>2009-01-20 05:01:38</td>\n",
       "      <td>1.0</td>\n",
       "    </tr>\n",
       "    <tr>\n",
       "      <th>394081</th>\n",
       "      <td>BJ's Restaurant &amp; Brewery</td>\n",
       "      <td>Grand Cru</td>\n",
       "      <td>27766</td>\n",
       "      <td>2006-01-10 23:36:02</td>\n",
       "      <td>1.0</td>\n",
       "    </tr>\n",
       "    <tr>\n",
       "      <th>544426</th>\n",
       "      <td>BJ's Restaurant &amp; Brewery</td>\n",
       "      <td>Grand Cru</td>\n",
       "      <td>40390</td>\n",
       "      <td>2009-01-02 04:23:50</td>\n",
       "      <td>1.0</td>\n",
       "    </tr>\n",
       "    <tr>\n",
       "      <th>394083</th>\n",
       "      <td>BJ's Restaurant &amp; Brewery</td>\n",
       "      <td>Harvest Hefeweizen</td>\n",
       "      <td>57094</td>\n",
       "      <td>2010-03-26 02:00:09</td>\n",
       "      <td>1.0</td>\n",
       "    </tr>\n",
       "    <tr>\n",
       "      <th>...</th>\n",
       "      <td>...</td>\n",
       "      <td>...</td>\n",
       "      <td>...</td>\n",
       "      <td>...</td>\n",
       "      <td>...</td>\n",
       "    </tr>\n",
       "    <tr>\n",
       "      <th>1313327</th>\n",
       "      <td>Water Street Brewery</td>\n",
       "      <td>Pale Ale</td>\n",
       "      <td>64283</td>\n",
       "      <td>2010-12-10 22:44:55</td>\n",
       "      <td>1.0</td>\n",
       "    </tr>\n",
       "    <tr>\n",
       "      <th>739005</th>\n",
       "      <td>Water Street Brewery</td>\n",
       "      <td>Raspberry Weiss</td>\n",
       "      <td>8076</td>\n",
       "      <td>2009-10-23 22:51:34</td>\n",
       "      <td>1.0</td>\n",
       "    </tr>\n",
       "    <tr>\n",
       "      <th>1313320</th>\n",
       "      <td>Water Street Brewery</td>\n",
       "      <td>Raspberry Weiss</td>\n",
       "      <td>64368</td>\n",
       "      <td>2010-12-13 08:08:49</td>\n",
       "      <td>1.0</td>\n",
       "    </tr>\n",
       "    <tr>\n",
       "      <th>739055</th>\n",
       "      <td>Water Street Brewery</td>\n",
       "      <td>Water Street Amber</td>\n",
       "      <td>8074</td>\n",
       "      <td>2010-12-13 13:10:59</td>\n",
       "      <td>1.0</td>\n",
       "    </tr>\n",
       "    <tr>\n",
       "      <th>1313271</th>\n",
       "      <td>Water Street Brewery</td>\n",
       "      <td>Water Street Amber</td>\n",
       "      <td>64369</td>\n",
       "      <td>2010-12-13 08:47:42</td>\n",
       "      <td>1.0</td>\n",
       "    </tr>\n",
       "  </tbody>\n",
       "</table>\n",
       "<p>549 rows × 5 columns</p>\n",
       "</div>"
      ],
      "text/plain": [
       "                      brewery_name           beer_name  beer_beerid  \\\n",
       "394014   BJ's Restaurant & Brewery              Blonde        57096   \n",
       "536991   BJ's Restaurant & Brewery              Blonde        41271   \n",
       "394081   BJ's Restaurant & Brewery           Grand Cru        27766   \n",
       "544426   BJ's Restaurant & Brewery           Grand Cru        40390   \n",
       "394083   BJ's Restaurant & Brewery  Harvest Hefeweizen        57094   \n",
       "...                            ...                 ...          ...   \n",
       "1313327       Water Street Brewery            Pale Ale        64283   \n",
       "739005        Water Street Brewery     Raspberry Weiss         8076   \n",
       "1313320       Water Street Brewery     Raspberry Weiss        64368   \n",
       "739055        Water Street Brewery  Water Street Amber         8074   \n",
       "1313271       Water Street Brewery  Water Street Amber        64369   \n",
       "\n",
       "                review_time  rank  \n",
       "394014  2010-03-26 02:12:40   1.0  \n",
       "536991  2009-01-20 05:01:38   1.0  \n",
       "394081  2006-01-10 23:36:02   1.0  \n",
       "544426  2009-01-02 04:23:50   1.0  \n",
       "394083  2010-03-26 02:00:09   1.0  \n",
       "...                     ...   ...  \n",
       "1313327 2010-12-10 22:44:55   1.0  \n",
       "739005  2009-10-23 22:51:34   1.0  \n",
       "1313320 2010-12-13 08:08:49   1.0  \n",
       "739055  2010-12-13 13:10:59   1.0  \n",
       "1313271 2010-12-13 08:47:42   1.0  \n",
       "\n",
       "[549 rows x 5 columns]"
      ]
     },
     "execution_count": 9,
     "metadata": {},
     "output_type": "execute_result"
    }
   ],
   "source": [
    "# check why beer_name and beer_beerid doesn't line up\n",
    "\n",
    "# create df of beer_names and number of unique id counts\n",
    "beer_id_unique_counts_df = beer_df.groupby([\"brewery_name\",\"beer_name\"]).agg({\"beer_beerid\": pd.Series.nunique}).sort_values(by=\"beer_beerid\", ascending=False)\n",
    "beer_id_unique_counts_df = beer_id_unique_counts_df.reset_index()\n",
    "beer_id_unique_counts_df.columns = [\"brewery_name\",\"beer_name\",\"nunique_of_beer_id\"]\n",
    "beer_id_unique_counts_df = beer_id_unique_counts_df[beer_id_unique_counts_df[\"nunique_of_beer_id\"]>1]\n",
    "\n",
    "# create df of non-unique beer_names and the beer_beerid\n",
    "beer_id_non_unique_df = beer_df[beer_df.set_index([\"brewery_name\",\"beer_name\"]).index.isin(beer_id_unique_counts_df.set_index([\"brewery_name\",\"beer_name\"]).index)][[\"brewery_name\",\"beer_name\",\"beer_beerid\",\"review_time\"]]\n",
    "beer_id_non_unique_df[\"rank\"] = beer_id_non_unique_df.groupby([\"brewery_name\",\"beer_name\",\"beer_beerid\"])[\"beer_beerid\"].rank(method=\"first\", ascending=True)\n",
    "beer_id_non_unique_df[beer_id_non_unique_df[\"rank\"] == 1].sort_values(by=[\"brewery_name\",\"beer_name\"])"
   ]
  },
  {
   "cell_type": "markdown",
   "metadata": {},
   "source": [
    "Brewery_names are mapped to multiple brewery_ids. On a high level, it appears that this is due to:\n",
    "(1) time \n",
    "(2) Difference in nomenclature (e.g. Brewery vs Brewhouse) \n",
    "\n",
    "\n",
    "Likewise, beer_names are mapped to multiple beer_beerid because of the brewery naming their beers similarly. However, there are also cases where beer_names coming from the same brewery_name have multiple beer_beerid. For this analysis we can use beer_name in conjunction with brewery_name to identify beers."
   ]
  },
  {
   "cell_type": "markdown",
   "metadata": {},
   "source": [
    "<h3> Strongest beers by ABV </h3>\n",
    "\n",
    "Which brewery produces the strongest beers by ABV%?\n"
   ]
  },
  {
   "cell_type": "code",
   "execution_count": 10,
   "metadata": {},
   "outputs": [],
   "source": [
    "# create df of summary values for beer strength and number of beers per brewery\n",
    "strong_beer_df_with_na_abv = beer_df.groupby(\"brewery_name\").agg({'beer_name': pd.Series.nunique,\n",
    "                                                             'beer_abv': ['min','max','median','mean']})\n",
    "\n",
    "strong_beer_df_with_na_abv = strong_beer_df_with_na_abv.reset_index()\n",
    "strong_beer_df_with_na_abv.columns = [\"brewery_name\",\"no_of_beers\",\"beer_abv_min\",\"beer_abv_max\",\"beer_abv_median\",\"beer_abv_mean\"]"
   ]
  },
  {
   "cell_type": "code",
   "execution_count": 11,
   "metadata": {},
   "outputs": [],
   "source": [
    "# create df of non-null ABV rows\n",
    "beer_df_non_null_abv = beer_df[beer_df[\"beer_abv\"].notna()]\n",
    "\n",
    "# create df of summary values for number of beers per brewery\n",
    "strong_beer_df = beer_df_non_null_abv.groupby(\"brewery_name\").agg({'beer_name': pd.Series.nunique,\n",
    "                                                                   'beer_abv': ['min','max','median','mean']})\n",
    "\n",
    "strong_beer_df = strong_beer_df.reset_index()\n",
    "strong_beer_df.columns = [\"brewery_name\",\"no_of_beers\",\"beer_abv_min\",\"beer_abv_max\",\"beer_abv_median\",\"beer_abv_mean\"]"
   ]
  },
  {
   "cell_type": "code",
   "execution_count": 12,
   "metadata": {},
   "outputs": [
    {
     "name": "stdout",
     "output_type": "stream",
     "text": [
      "Average number of beers per brewery (excluding null ABV%)  9.31\n",
      "Average number of beers per brewery:  11.06\n"
     ]
    }
   ],
   "source": [
    "# number of beers per brewery (non NA ABV only)\n",
    "print(\"Average number of beers per brewery (excluding null ABV%) \", round(np.average(strong_beer_df[\"no_of_beers\"]),2))\n",
    "print(\"Average number of beers per brewery: \", round(np.average(strong_beer_df_with_na_abv[\"no_of_beers\"]),2))"
   ]
  },
  {
   "cell_type": "code",
   "execution_count": 13,
   "metadata": {},
   "outputs": [
    {
     "name": "stdout",
     "output_type": "stream",
     "text": [
      "Average ABV%:  7.15\n"
     ]
    },
    {
     "data": {
      "image/png": "[encoded data removed]",
      "text/plain": [
       "<Figure size 432x288 with 1 Axes>"
      ]
     },
     "metadata": {
      "needs_background": "light"
     },
     "output_type": "display_data"
    }
   ],
   "source": [
    "# review ABV% distribution\n",
    "abv_ax = sns.boxplot(x=beer_df_non_null_abv[\"beer_abv\"])\n",
    "\n",
    "avg_abv = np.average(beer_df_non_null_abv[\"beer_abv\"])\n",
    "print(\"Average ABV%: \", round(avg_abv,2))"
   ]
  },
  {
   "cell_type": "markdown",
   "metadata": {},
   "source": [
    "Most beers are around 5-9% ABV, but there are some outliers with ~60% and 0%."
   ]
  },
  {
   "cell_type": "code",
   "execution_count": 200,
   "metadata": {},
   "outputs": [
    {
     "name": "stdout",
     "output_type": "stream",
     "text": [
      "Strongest 5 beers by mean: \n"
     ]
    },
    {
     "data": {
      "text/html": [
       "<div>\n",
       "<style scoped>\n",
       "    .dataframe tbody tr th:only-of-type {\n",
       "        vertical-align: middle;\n",
       "    }\n",
       "\n",
       "    .dataframe tbody tr th {\n",
       "        vertical-align: top;\n",
       "    }\n",
       "\n",
       "    .dataframe thead th {\n",
       "        text-align: right;\n",
       "    }\n",
       "</style>\n",
       "<table border=\"1\" class=\"dataframe\">\n",
       "  <thead>\n",
       "    <tr style=\"text-align: right;\">\n",
       "      <th></th>\n",
       "      <th>brewery_name</th>\n",
       "      <th>no_of_beers</th>\n",
       "      <th>beer_abv_min</th>\n",
       "      <th>beer_abv_max</th>\n",
       "      <th>beer_abv_median</th>\n",
       "      <th>beer_abv_mean</th>\n",
       "    </tr>\n",
       "  </thead>\n",
       "  <tbody>\n",
       "    <tr>\n",
       "      <th>3891</th>\n",
       "      <td>Schorschbräu</td>\n",
       "      <td>10</td>\n",
       "      <td>4.90</td>\n",
       "      <td>57.7</td>\n",
       "      <td>13.0</td>\n",
       "      <td>20.563571</td>\n",
       "    </tr>\n",
       "    <tr>\n",
       "      <th>712</th>\n",
       "      <td>Brasserie Grain d' Orge (Brasserie Jeanne d'Ar...</td>\n",
       "      <td>10</td>\n",
       "      <td>4.50</td>\n",
       "      <td>13.0</td>\n",
       "      <td>13.0</td>\n",
       "      <td>12.241081</td>\n",
       "    </tr>\n",
       "    <tr>\n",
       "      <th>923</th>\n",
       "      <td>Brauerei Schloss Eggenberg</td>\n",
       "      <td>14</td>\n",
       "      <td>4.80</td>\n",
       "      <td>14.0</td>\n",
       "      <td>14.0</td>\n",
       "      <td>11.845332</td>\n",
       "    </tr>\n",
       "    <tr>\n",
       "      <th>2635</th>\n",
       "      <td>Kuhnhenn Brewing Company</td>\n",
       "      <td>117</td>\n",
       "      <td>3.25</td>\n",
       "      <td>18.0</td>\n",
       "      <td>13.5</td>\n",
       "      <td>11.837981</td>\n",
       "    </tr>\n",
       "    <tr>\n",
       "      <th>701</th>\n",
       "      <td>Brasserie Dubuisson Frères sprl</td>\n",
       "      <td>14</td>\n",
       "      <td>7.00</td>\n",
       "      <td>13.0</td>\n",
       "      <td>12.0</td>\n",
       "      <td>11.452756</td>\n",
       "    </tr>\n",
       "  </tbody>\n",
       "</table>\n",
       "</div>"
      ],
      "text/plain": [
       "                                           brewery_name  no_of_beers  \\\n",
       "3891                                       Schorschbräu           10   \n",
       "712   Brasserie Grain d' Orge (Brasserie Jeanne d'Ar...           10   \n",
       "923                          Brauerei Schloss Eggenberg           14   \n",
       "2635                           Kuhnhenn Brewing Company          117   \n",
       "701                     Brasserie Dubuisson Frères sprl           14   \n",
       "\n",
       "      beer_abv_min  beer_abv_max  beer_abv_median  beer_abv_mean  \n",
       "3891          4.90          57.7             13.0      20.563571  \n",
       "712           4.50          13.0             13.0      12.241081  \n",
       "923           4.80          14.0             14.0      11.845332  \n",
       "2635          3.25          18.0             13.5      11.837981  \n",
       "701           7.00          13.0             12.0      11.452756  "
      ]
     },
     "execution_count": 200,
     "metadata": {},
     "output_type": "execute_result"
    }
   ],
   "source": [
    "threshold_strong_beer_min_beer = 3\n",
    "\n",
    "strongest_beers = strong_beer_df[strong_beer_df[\"no_of_beers\"]> threshold_strong_beer_min_beer]\n",
    "\n",
    "print(\"Strongest 5 beers by mean: \")\n",
    "strongest_beers.nlargest(5,\"beer_abv_mean\")"
   ]
  },
  {
   "cell_type": "code",
   "execution_count": 203,
   "metadata": {},
   "outputs": [
    {
     "name": "stdout",
     "output_type": "stream",
     "text": [
      "6.106323847073894\n"
     ]
    }
   ],
   "source": [
    "avg_abv = np.average(strong_beer_df[strong_beer_df[\"no_of_beers\"]> threshold_strong_beer_min_beer][\"beer_abv_mean\"])\n",
    "print(avg_abv)"
   ]
  },
  {
   "cell_type": "markdown",
   "metadata": {},
   "source": [
    "Evaluating the brewery's overall beer offerings, these three has the highest mean ABV% - their beer offerings tend to be stronger overall. While the industry average ABV is around 6%, these three breweries produce beers that have on average 2-3x higher ABV%."
   ]
  },
  {
   "cell_type": "markdown",
   "metadata": {},
   "source": [
    "It's also interesting to look at the strongest beer and who produces them:"
   ]
  },
  {
   "cell_type": "code",
   "execution_count": 14,
   "metadata": {},
   "outputs": [
    {
     "name": "stdout",
     "output_type": "stream",
     "text": [
      "Brewery with strongest beer: \n"
     ]
    },
    {
     "data": {
      "text/html": [
       "<div>\n",
       "<style scoped>\n",
       "    .dataframe tbody tr th:only-of-type {\n",
       "        vertical-align: middle;\n",
       "    }\n",
       "\n",
       "    .dataframe tbody tr th {\n",
       "        vertical-align: top;\n",
       "    }\n",
       "\n",
       "    .dataframe thead th {\n",
       "        text-align: right;\n",
       "    }\n",
       "</style>\n",
       "<table border=\"1\" class=\"dataframe\">\n",
       "  <thead>\n",
       "    <tr style=\"text-align: right;\">\n",
       "      <th></th>\n",
       "      <th>brewery_name</th>\n",
       "      <th>beer_name</th>\n",
       "      <th>beer_abv_max</th>\n",
       "      <th>beer_abv_mean</th>\n",
       "      <th>rank</th>\n",
       "    </tr>\n",
       "  </thead>\n",
       "  <tbody>\n",
       "    <tr>\n",
       "      <th>35406</th>\n",
       "      <td>Schorschbräu</td>\n",
       "      <td>Schorschbräu Schorschbock 57%</td>\n",
       "      <td>57.7</td>\n",
       "      <td>57.7</td>\n",
       "      <td>1.0</td>\n",
       "    </tr>\n",
       "    <tr>\n",
       "      <th>7641</th>\n",
       "      <td>BrewDog</td>\n",
       "      <td>Sink The Bismarck!</td>\n",
       "      <td>41.0</td>\n",
       "      <td>41.0</td>\n",
       "      <td>1.0</td>\n",
       "    </tr>\n",
       "    <tr>\n",
       "      <th>13409</th>\n",
       "      <td>De Struise Brouwers</td>\n",
       "      <td>Black Damnation VI - Messy</td>\n",
       "      <td>39.0</td>\n",
       "      <td>39.0</td>\n",
       "      <td>1.0</td>\n",
       "    </tr>\n",
       "    <tr>\n",
       "      <th>19373</th>\n",
       "      <td>Hair of the Dog Brewing Company / Brewery and ...</td>\n",
       "      <td>Dave</td>\n",
       "      <td>29.0</td>\n",
       "      <td>29.0</td>\n",
       "      <td>1.0</td>\n",
       "    </tr>\n",
       "    <tr>\n",
       "      <th>5296</th>\n",
       "      <td>Boston Beer Company (Samuel Adams)</td>\n",
       "      <td>Samuel Adams Utopias</td>\n",
       "      <td>27.0</td>\n",
       "      <td>27.0</td>\n",
       "      <td>1.0</td>\n",
       "    </tr>\n",
       "  </tbody>\n",
       "</table>\n",
       "</div>"
      ],
      "text/plain": [
       "                                            brewery_name  \\\n",
       "35406                                       Schorschbräu   \n",
       "7641                                             BrewDog   \n",
       "13409                                De Struise Brouwers   \n",
       "19373  Hair of the Dog Brewing Company / Brewery and ...   \n",
       "5296                  Boston Beer Company (Samuel Adams)   \n",
       "\n",
       "                           beer_name  beer_abv_max  beer_abv_mean  rank  \n",
       "35406  Schorschbräu Schorschbock 57%          57.7           57.7   1.0  \n",
       "7641              Sink The Bismarck!          41.0           41.0   1.0  \n",
       "13409     Black Damnation VI - Messy          39.0           39.0   1.0  \n",
       "19373                           Dave          29.0           29.0   1.0  \n",
       "5296            Samuel Adams Utopias          27.0           27.0   1.0  "
      ]
     },
     "execution_count": 14,
     "metadata": {},
     "output_type": "execute_result"
    }
   ],
   "source": [
    "# create df of summary values for beer strength \n",
    "strongest_beer_df = beer_df_non_null_abv.groupby([\"brewery_name\",\"beer_name\"]).agg({'no''beer_abv': [\"max\",\"mean\"]})\n",
    "strongest_beer_df = strongest_beer_df.reset_index()\n",
    "strongest_beer_df.columns = [\"brewery_name\",\"beer_name\",\"beer_abv_max\",\"beer_abv_mean\"]\n",
    "strongest_beer_df[\"rank\"] = strongest_beer_df.groupby([\"brewery_name\"])[\"beer_abv_max\"].rank(ascending = False, method=\"first\")\n",
    "\n",
    "print(\"Brewery with strongest beer: \")\n",
    "strongest_beer_df[strongest_beer_df[\"rank\"] == 1].sort_values(by=\"beer_abv_max\", ascending = False).head(5)"
   ]
  },
  {
   "cell_type": "markdown",
   "metadata": {},
   "source": [
    "<h3> Three Beer Recommendations </h3>\n",
    "\n",
    "If you had to pick 3 beers to recommend using only this data, which would you pick?\n"
   ]
  },
  {
   "cell_type": "code",
   "execution_count": 17,
   "metadata": {},
   "outputs": [
    {
     "data": {
      "image/png": "[encoded data removed]",
      "text/plain": [
       "<Figure size 1440x720 with 5 Axes>"
      ]
     },
     "metadata": {
      "needs_background": "light"
     },
     "output_type": "display_data"
    }
   ],
   "source": [
    "review_cols = [\"review_overall\",\"review_aroma\",\"review_appearance\",\"review_palate\",\"review_taste\"]\n",
    "\n",
    "# review rating distribution\n",
    "\n",
    "fig1 = plt.figure(figsize=(20,10))\n",
    "position = 1\n",
    "\n",
    "for r in review_cols:\n",
    "    plt.subplot(2,len(review_cols)-2,position)\n",
    "    sns.boxplot(x=df[r])\n",
    "    \n",
    "    position+=1"
   ]
  },
  {
   "cell_type": "code",
   "execution_count": 18,
   "metadata": {},
   "outputs": [],
   "source": [
    "# create df of summary values for number of beers produced, number of reviews, and review ratings for each beer and overall brewery\n",
    "brewery_rating_df = beer_df.groupby(\"brewery_name\").agg({'beer_name': pd.Series.nunique,\n",
    "                                                    'index': pd.Series.nunique,\n",
    "                                                    'review_overall': \"mean\",\n",
    "                                                    'review_aroma': \"mean\",\n",
    "                                                    'review_appearance': \"mean\"\n",
    "                                                    })\n",
    "                                                    \n",
    "brewery_rating_df.columns = [\"number_of_beers\",\"number_of_reviews\",\"review_overall_mean\",\"review_aroma_mean\",\"review_appearance_mean\"]\n"
   ]
  },
  {
   "cell_type": "code",
   "execution_count": 79,
   "metadata": {},
   "outputs": [
    {
     "name": "stdout",
     "output_type": "stream",
     "text": [
      "Average number of beers per brewery:  11.06\n",
      "Average number of reviews per brewery:  256.6\n"
     ]
    },
    {
     "data": {
      "text/html": [
       "<div>\n",
       "<style scoped>\n",
       "    .dataframe tbody tr th:only-of-type {\n",
       "        vertical-align: middle;\n",
       "    }\n",
       "\n",
       "    .dataframe tbody tr th {\n",
       "        vertical-align: top;\n",
       "    }\n",
       "\n",
       "    .dataframe thead th {\n",
       "        text-align: right;\n",
       "    }\n",
       "</style>\n",
       "<table border=\"1\" class=\"dataframe\">\n",
       "  <thead>\n",
       "    <tr style=\"text-align: right;\">\n",
       "      <th></th>\n",
       "      <th>number_of_beers</th>\n",
       "      <th>number_of_reviews</th>\n",
       "      <th>review_overall_mean</th>\n",
       "      <th>review_aroma_mean</th>\n",
       "      <th>review_appearance_mean</th>\n",
       "    </tr>\n",
       "    <tr>\n",
       "      <th>brewery_name</th>\n",
       "      <th></th>\n",
       "      <th></th>\n",
       "      <th></th>\n",
       "      <th></th>\n",
       "      <th></th>\n",
       "    </tr>\n",
       "  </thead>\n",
       "  <tbody>\n",
       "    <tr>\n",
       "      <th>'t Hofbrouwerijke</th>\n",
       "      <td>7</td>\n",
       "      <td>37</td>\n",
       "      <td>3.702703</td>\n",
       "      <td>3.783784</td>\n",
       "      <td>3.851351</td>\n",
       "    </tr>\n",
       "    <tr>\n",
       "      <th>(512) Brewing Company</th>\n",
       "      <td>14</td>\n",
       "      <td>304</td>\n",
       "      <td>4.065789</td>\n",
       "      <td>4.001645</td>\n",
       "      <td>4.057566</td>\n",
       "    </tr>\n",
       "    <tr>\n",
       "      <th>10 Barrel Brewing Co.</th>\n",
       "      <td>17</td>\n",
       "      <td>84</td>\n",
       "      <td>3.732143</td>\n",
       "      <td>3.571429</td>\n",
       "      <td>3.815476</td>\n",
       "    </tr>\n",
       "    <tr>\n",
       "      <th>1516 Brewing Company</th>\n",
       "      <td>17</td>\n",
       "      <td>32</td>\n",
       "      <td>4.171875</td>\n",
       "      <td>3.921875</td>\n",
       "      <td>4.234375</td>\n",
       "    </tr>\n",
       "    <tr>\n",
       "      <th>16 Mile Brewing Company</th>\n",
       "      <td>6</td>\n",
       "      <td>92</td>\n",
       "      <td>3.570652</td>\n",
       "      <td>3.402174</td>\n",
       "      <td>3.766304</td>\n",
       "    </tr>\n",
       "    <tr>\n",
       "      <th>1648 Brewing Company Ltd</th>\n",
       "      <td>1</td>\n",
       "      <td>1</td>\n",
       "      <td>3.500000</td>\n",
       "      <td>4.000000</td>\n",
       "      <td>3.500000</td>\n",
       "    </tr>\n",
       "    <tr>\n",
       "      <th>1702 / The Address Brewing Co.</th>\n",
       "      <td>1</td>\n",
       "      <td>1</td>\n",
       "      <td>4.000000</td>\n",
       "      <td>4.500000</td>\n",
       "      <td>4.000000</td>\n",
       "    </tr>\n",
       "    <tr>\n",
       "      <th>192 Brewing Company</th>\n",
       "      <td>3</td>\n",
       "      <td>3</td>\n",
       "      <td>1.833333</td>\n",
       "      <td>2.833333</td>\n",
       "      <td>3.166667</td>\n",
       "    </tr>\n",
       "    <tr>\n",
       "      <th>2 Brothers Brewery</th>\n",
       "      <td>9</td>\n",
       "      <td>51</td>\n",
       "      <td>3.686275</td>\n",
       "      <td>3.617647</td>\n",
       "      <td>3.627451</td>\n",
       "    </tr>\n",
       "    <tr>\n",
       "      <th>21st Amendment Brewery</th>\n",
       "      <td>72</td>\n",
       "      <td>2928</td>\n",
       "      <td>3.695867</td>\n",
       "      <td>3.637978</td>\n",
       "      <td>3.846311</td>\n",
       "    </tr>\n",
       "  </tbody>\n",
       "</table>\n",
       "</div>"
      ],
      "text/plain": [
       "                                number_of_beers  number_of_reviews  \\\n",
       "brewery_name                                                         \n",
       "'t Hofbrouwerijke                             7                 37   \n",
       "(512) Brewing Company                        14                304   \n",
       "10 Barrel Brewing Co.                        17                 84   \n",
       "1516 Brewing Company                         17                 32   \n",
       "16 Mile Brewing Company                       6                 92   \n",
       "1648 Brewing Company Ltd                      1                  1   \n",
       "1702 / The Address Brewing Co.                1                  1   \n",
       "192 Brewing Company                           3                  3   \n",
       "2 Brothers Brewery                            9                 51   \n",
       "21st Amendment Brewery                       72               2928   \n",
       "\n",
       "                                review_overall_mean  review_aroma_mean  \\\n",
       "brewery_name                                                             \n",
       "'t Hofbrouwerijke                          3.702703           3.783784   \n",
       "(512) Brewing Company                      4.065789           4.001645   \n",
       "10 Barrel Brewing Co.                      3.732143           3.571429   \n",
       "1516 Brewing Company                       4.171875           3.921875   \n",
       "16 Mile Brewing Company                    3.570652           3.402174   \n",
       "1648 Brewing Company Ltd                   3.500000           4.000000   \n",
       "1702 / The Address Brewing Co.             4.000000           4.500000   \n",
       "192 Brewing Company                        1.833333           2.833333   \n",
       "2 Brothers Brewery                         3.686275           3.617647   \n",
       "21st Amendment Brewery                     3.695867           3.637978   \n",
       "\n",
       "                                review_appearance_mean  \n",
       "brewery_name                                            \n",
       "'t Hofbrouwerijke                             3.851351  \n",
       "(512) Brewing Company                         4.057566  \n",
       "10 Barrel Brewing Co.                         3.815476  \n",
       "1516 Brewing Company                          4.234375  \n",
       "16 Mile Brewing Company                       3.766304  \n",
       "1648 Brewing Company Ltd                      3.500000  \n",
       "1702 / The Address Brewing Co.                4.000000  \n",
       "192 Brewing Company                           3.166667  \n",
       "2 Brothers Brewery                            3.627451  \n",
       "21st Amendment Brewery                        3.846311  "
      ]
     },
     "execution_count": 79,
     "metadata": {},
     "output_type": "execute_result"
    }
   ],
   "source": [
    "avg_beer_per_brewery = np.average(brewery_rating_df[\"number_of_beers\"])\n",
    "avg_review_per_brewery = np.average(brewery_rating_df[\"number_of_reviews\"])\n",
    "                                    \n",
    "print(\"Average number of beers per brewery: \", round(avg_beer_per_brewery,2))\n",
    "print(\"Average number of reviews per brewery: \", round(avg_review_per_brewery,2))\n",
    "\n",
    "brewery_rating_df.head(10)"
   ]
  },
  {
   "cell_type": "code",
   "execution_count": 76,
   "metadata": {},
   "outputs": [
    {
     "data": {
      "image/png": "[encoded data removed]",
      "text/plain": [
       "<Figure size 576x360 with 1 Axes>"
      ]
     },
     "metadata": {
      "needs_background": "light"
     },
     "output_type": "display_data"
    },
    {
     "data": {
      "image/png": "[encoded data removed]",
      "text/plain": [
       "<Figure size 576x360 with 1 Axes>"
      ]
     },
     "metadata": {
      "needs_background": "light"
     },
     "output_type": "display_data"
    }
   ],
   "source": [
    "plt.figure(figsize = (8,5))\n",
    "no_of_beers_dist = sns.countplot(x=pd.cut(brewery_rating_df[\"number_of_beers\"], bins=[0,5,10,20,30,40,50,60,np.max(brewery_rating_df[\"number_of_beers\"])]))\n",
    "\n",
    "plt.figure(figsize = (8,5))\n",
    "no_of_beers_dist = sns.countplot(x=pd.cut(brewery_rating_df[\"number_of_reviews\"], bins=[0,5,50,100,200,300,400,500,np.max(brewery_rating_df[\"number_of_reviews\"])]))\n"
   ]
  },
  {
   "cell_type": "code",
   "execution_count": 20,
   "metadata": {
    "scrolled": false
   },
   "outputs": [
    {
     "data": {
      "text/html": [
       "<div>\n",
       "<style scoped>\n",
       "    .dataframe tbody tr th:only-of-type {\n",
       "        vertical-align: middle;\n",
       "    }\n",
       "\n",
       "    .dataframe tbody tr th {\n",
       "        vertical-align: top;\n",
       "    }\n",
       "\n",
       "    .dataframe thead th {\n",
       "        text-align: right;\n",
       "    }\n",
       "</style>\n",
       "<table border=\"1\" class=\"dataframe\">\n",
       "  <thead>\n",
       "    <tr style=\"text-align: right;\">\n",
       "      <th></th>\n",
       "      <th>brewery_name</th>\n",
       "      <th>beer_name</th>\n",
       "      <th>number_of_reviews</th>\n",
       "      <th>review_overall_mean</th>\n",
       "      <th>review_aroma_mean</th>\n",
       "      <th>review_appearance_mean</th>\n",
       "    </tr>\n",
       "  </thead>\n",
       "  <tbody>\n",
       "    <tr>\n",
       "      <th>0</th>\n",
       "      <td>'t Hofbrouwerijke</td>\n",
       "      <td>Blondelle</td>\n",
       "      <td>1</td>\n",
       "      <td>4.000000</td>\n",
       "      <td>4.500000</td>\n",
       "      <td>3.500000</td>\n",
       "    </tr>\n",
       "    <tr>\n",
       "      <th>1</th>\n",
       "      <td>'t Hofbrouwerijke</td>\n",
       "      <td>Bosprotter</td>\n",
       "      <td>9</td>\n",
       "      <td>3.722222</td>\n",
       "      <td>3.833333</td>\n",
       "      <td>3.666667</td>\n",
       "    </tr>\n",
       "    <tr>\n",
       "      <th>2</th>\n",
       "      <td>'t Hofbrouwerijke</td>\n",
       "      <td>Hof Korvatunturi</td>\n",
       "      <td>2</td>\n",
       "      <td>3.750000</td>\n",
       "      <td>4.000000</td>\n",
       "      <td>3.750000</td>\n",
       "    </tr>\n",
       "    <tr>\n",
       "      <th>3</th>\n",
       "      <td>'t Hofbrouwerijke</td>\n",
       "      <td>Hofblues</td>\n",
       "      <td>16</td>\n",
       "      <td>3.812500</td>\n",
       "      <td>3.812500</td>\n",
       "      <td>4.000000</td>\n",
       "    </tr>\n",
       "    <tr>\n",
       "      <th>4</th>\n",
       "      <td>'t Hofbrouwerijke</td>\n",
       "      <td>Hofdraak</td>\n",
       "      <td>7</td>\n",
       "      <td>3.357143</td>\n",
       "      <td>3.428571</td>\n",
       "      <td>3.714286</td>\n",
       "    </tr>\n",
       "  </tbody>\n",
       "</table>\n",
       "</div>"
      ],
      "text/plain": [
       "        brewery_name         beer_name  number_of_reviews  \\\n",
       "0  't Hofbrouwerijke         Blondelle                  1   \n",
       "1  't Hofbrouwerijke        Bosprotter                  9   \n",
       "2  't Hofbrouwerijke  Hof Korvatunturi                  2   \n",
       "3  't Hofbrouwerijke          Hofblues                 16   \n",
       "4  't Hofbrouwerijke          Hofdraak                  7   \n",
       "\n",
       "   review_overall_mean  review_aroma_mean  review_appearance_mean  \n",
       "0             4.000000           4.500000                3.500000  \n",
       "1             3.722222           3.833333                3.666667  \n",
       "2             3.750000           4.000000                3.750000  \n",
       "3             3.812500           3.812500                4.000000  \n",
       "4             3.357143           3.428571                3.714286  "
      ]
     },
     "execution_count": 20,
     "metadata": {},
     "output_type": "execute_result"
    }
   ],
   "source": [
    "# create df of summary values for number of beers produced, number of reviews, and review ratings for each beer and overall brewery\n",
    "beer_rating_df = beer_df.groupby([\"brewery_name\",\"beer_name\"]).agg({'index': pd.Series.nunique,\n",
    "                                                    'review_overall': \"mean\",\n",
    "                                                    'review_aroma': \"mean\",\n",
    "                                                    'review_appearance': \"mean\"})\n",
    "          \n",
    "beer_rating_df = beer_rating_df.reset_index()\n",
    "beer_rating_df.columns = [\"brewery_name\",\"beer_name\",\"number_of_reviews\",\"review_overall_mean\",\"review_aroma_mean\",\"review_appearance_mean\"]\n",
    "\n",
    "beer_rating_df.head(5)"
   ]
  },
  {
   "cell_type": "code",
   "execution_count": 80,
   "metadata": {},
   "outputs": [
    {
     "name": "stdout",
     "output_type": "stream",
     "text": [
      "Average number of reviews per beer:  23.21\n"
     ]
    }
   ],
   "source": [
    "avg_rating_per_beer = np.average(beer_rating_df[\"number_of_reviews\"])\n",
    "print(\"Average number of reviews per beer: \", round(avg_rating_per_beer,2))      "
   ]
  },
  {
   "cell_type": "code",
   "execution_count": 82,
   "metadata": {},
   "outputs": [],
   "source": [
    "# create view of brewery ratings and beer ratings\n",
    "beer_brewery_ratings_df = pd.merge(left=beer_rating_df,\n",
    "                                   right=brewery_rating_df,\n",
    "                                   how=\"outer\",\n",
    "                                   on=\"brewery_name\",\n",
    "                                   suffixes=(\"_beer\",\"_brewery\"))"
   ]
  },
  {
   "cell_type": "code",
   "execution_count": 210,
   "metadata": {},
   "outputs": [
    {
     "data": {
      "text/html": [
       "<div>\n",
       "<style scoped>\n",
       "    .dataframe tbody tr th:only-of-type {\n",
       "        vertical-align: middle;\n",
       "    }\n",
       "\n",
       "    .dataframe tbody tr th {\n",
       "        vertical-align: top;\n",
       "    }\n",
       "\n",
       "    .dataframe thead th {\n",
       "        text-align: right;\n",
       "    }\n",
       "</style>\n",
       "<table border=\"1\" class=\"dataframe\">\n",
       "  <thead>\n",
       "    <tr style=\"text-align: right;\">\n",
       "      <th></th>\n",
       "      <th>brewery_name</th>\n",
       "      <th>beer_name</th>\n",
       "      <th>number_of_reviews_beer</th>\n",
       "      <th>review_overall_mean_beer</th>\n",
       "      <th>review_aroma_mean_beer</th>\n",
       "      <th>review_appearance_mean_beer</th>\n",
       "      <th>number_of_beers</th>\n",
       "      <th>number_of_reviews_brewery</th>\n",
       "      <th>review_overall_mean_brewery</th>\n",
       "      <th>review_aroma_mean_brewery</th>\n",
       "      <th>review_appearance_mean_brewery</th>\n",
       "      <th>overall_score_mean</th>\n",
       "    </tr>\n",
       "  </thead>\n",
       "  <tbody>\n",
       "    <tr>\n",
       "      <th>50646</th>\n",
       "      <td>The Alchemist</td>\n",
       "      <td>Heady Topper</td>\n",
       "      <td>458</td>\n",
       "      <td>4.629913</td>\n",
       "      <td>4.661572</td>\n",
       "      <td>4.159389</td>\n",
       "      <td>3</td>\n",
       "      <td>516</td>\n",
       "      <td>4.585271</td>\n",
       "      <td>4.609496</td>\n",
       "      <td>4.168605</td>\n",
       "      <td>9.215184</td>\n",
       "    </tr>\n",
       "    <tr>\n",
       "      <th>11751</th>\n",
       "      <td>Brouwerij Westvleteren (Sint-Sixtusabdij van W...</td>\n",
       "      <td>Trappist Westvleteren 12</td>\n",
       "      <td>1063</td>\n",
       "      <td>4.634995</td>\n",
       "      <td>4.584196</td>\n",
       "      <td>4.446378</td>\n",
       "      <td>5</td>\n",
       "      <td>1954</td>\n",
       "      <td>4.555015</td>\n",
       "      <td>4.461361</td>\n",
       "      <td>4.394831</td>\n",
       "      <td>9.190011</td>\n",
       "    </tr>\n",
       "    <tr>\n",
       "      <th>11752</th>\n",
       "      <td>Brouwerij Westvleteren (Sint-Sixtusabdij van W...</td>\n",
       "      <td>Trappist Westvleteren 8</td>\n",
       "      <td>550</td>\n",
       "      <td>4.512727</td>\n",
       "      <td>4.402727</td>\n",
       "      <td>4.397273</td>\n",
       "      <td>5</td>\n",
       "      <td>1954</td>\n",
       "      <td>4.555015</td>\n",
       "      <td>4.461361</td>\n",
       "      <td>4.394831</td>\n",
       "      <td>9.067743</td>\n",
       "    </tr>\n",
       "  </tbody>\n",
       "</table>\n",
       "</div>"
      ],
      "text/plain": [
       "                                            brewery_name  \\\n",
       "50646                                      The Alchemist   \n",
       "11751  Brouwerij Westvleteren (Sint-Sixtusabdij van W...   \n",
       "11752  Brouwerij Westvleteren (Sint-Sixtusabdij van W...   \n",
       "\n",
       "                      beer_name  number_of_reviews_beer  \\\n",
       "50646              Heady Topper                     458   \n",
       "11751  Trappist Westvleteren 12                    1063   \n",
       "11752   Trappist Westvleteren 8                     550   \n",
       "\n",
       "       review_overall_mean_beer  review_aroma_mean_beer  \\\n",
       "50646                  4.629913                4.661572   \n",
       "11751                  4.634995                4.584196   \n",
       "11752                  4.512727                4.402727   \n",
       "\n",
       "       review_appearance_mean_beer  number_of_beers  \\\n",
       "50646                     4.159389                3   \n",
       "11751                     4.446378                5   \n",
       "11752                     4.397273                5   \n",
       "\n",
       "       number_of_reviews_brewery  review_overall_mean_brewery  \\\n",
       "50646                        516                     4.585271   \n",
       "11751                       1954                     4.555015   \n",
       "11752                       1954                     4.555015   \n",
       "\n",
       "       review_aroma_mean_brewery  review_appearance_mean_brewery  \\\n",
       "50646                   4.609496                        4.168605   \n",
       "11751                   4.461361                        4.394831   \n",
       "11752                   4.461361                        4.394831   \n",
       "\n",
       "       overall_score_mean  \n",
       "50646            9.215184  \n",
       "11751            9.190011  \n",
       "11752            9.067743  "
      ]
     },
     "execution_count": 210,
     "metadata": {},
     "output_type": "execute_result"
    }
   ],
   "source": [
    "# simple scoring metric that evaluates overall beer reviews and brewery reviews\n",
    "# no weighting\n",
    "beer_brewery_ratings_df[\"overall_score_mean\"] = beer_brewery_ratings_df[\"review_overall_mean_brewery\"] + beer_brewery_ratings_df[\"review_overall_mean_beer\"]\n",
    "\n",
    "# filtering system to only show breweries and beerswith minimum number of reviews\n",
    "# min_brewery_review_threshold = 100\n",
    "min_beer_review_threshold = 100\n",
    "# filter_condition_1 = beer_brewery_ratings_df[\"number_of_reviews_brewery\"] > min_brewery_review_threshold\n",
    "filter_condition_2 = beer_brewery_ratings_df[\"number_of_reviews_beer\"] > min_beer_review_threshold\n",
    "\n",
    "beer_rec_1 = beer_brewery_ratings_df[filter_condition_2]\n",
    "beer_rec_1.nlargest(3,\"overall_score_mean\")"
   ]
  },
  {
   "cell_type": "code",
   "execution_count": 208,
   "metadata": {},
   "outputs": [
    {
     "data": {
      "text/plain": [
       "7.630535349961845"
      ]
     },
     "execution_count": 208,
     "metadata": {},
     "output_type": "execute_result"
    }
   ],
   "source": [
    "np.average(beer_rec_1[\"overall_score_mean\"])"
   ]
  },
  {
   "cell_type": "markdown",
   "metadata": {},
   "source": [
    "Based on overall brewery popularity and the specific beer popularity (mean rating), these three beers are recommended."
   ]
  },
  {
   "cell_type": "markdown",
   "metadata": {},
   "source": [
    "<h3>Best beer for aroma and appearance </h3>\n",
    "\n",
    "If I typically enjoy a beer due to its aroma and appearance, which beer style should I try?"
   ]
  },
  {
   "cell_type": "markdown",
   "metadata": {},
   "source": [
    "We assume that only aroma and appearance matters - no weight will be given to the other review variables."
   ]
  },
  {
   "cell_type": "code",
   "execution_count": 89,
   "metadata": {},
   "outputs": [],
   "source": [
    "# create df of summary values for number of beers produced, number of reviews, and review ratings for each beer and overall brewery\n",
    "beer_style_rating_df = beer_df.groupby(\"beer_style\").agg({'beer_name': pd.Series.nunique,\n",
    "                                                    'index': pd.Series.nunique,\n",
    "                                                    'review_overall': \"mean\",\n",
    "                                                    'review_aroma': \"mean\",\n",
    "                                                    'review_appearance': \"mean\"\n",
    "                                                    })\n",
    "\n",
    "beer_style_rating_df = beer_style_rating_df.reset_index()\n",
    "beer_style_rating_df.columns = [\"beer_style\",\"number_of_beers\",\"number_of_reviews\",\"review_overall_mean\",\"review_aroma_mean\",\"review_appearance_mean\"]"
   ]
  },
  {
   "cell_type": "code",
   "execution_count": 111,
   "metadata": {},
   "outputs": [
    {
     "name": "stdout",
     "output_type": "stream",
     "text": [
      "12936.163461538461\n",
      "504.4326923076923\n"
     ]
    },
    {
     "data": {
      "image/png": "[encoded data removed]",
      "text/plain": [
       "<Figure size 576x360 with 1 Axes>"
      ]
     },
     "metadata": {
      "needs_background": "light"
     },
     "output_type": "display_data"
    }
   ],
   "source": [
    "avg_review_per_beer_style = np.average(beer_style_rating_df[\"number_of_reviews\"])\n",
    "avg_beer_per_beer_style = np.average(beer_style_rating_df[\"number_of_beers\"])\n",
    "\n",
    "print(avg_review_per_beer_style)\n",
    "print(avg_beer_per_beer_style)\n",
    "\n",
    "plt.figure(figsize = (8,5))\n",
    "no_of_beers_dist = sns.barplot(x=beer_style_rating_df.sort_values(by=\"number_of_reviews\", ascending=False).head(10)[\"number_of_reviews\"], \n",
    "                               y=beer_style_rating_df.sort_values(by=\"number_of_reviews\", ascending=False).head(10)[\"beer_style\"])"
   ]
  },
  {
   "cell_type": "code",
   "execution_count": 211,
   "metadata": {
    "scrolled": true
   },
   "outputs": [
    {
     "data": {
      "text/html": [
       "<div>\n",
       "<style scoped>\n",
       "    .dataframe tbody tr th:only-of-type {\n",
       "        vertical-align: middle;\n",
       "    }\n",
       "\n",
       "    .dataframe tbody tr th {\n",
       "        vertical-align: top;\n",
       "    }\n",
       "\n",
       "    .dataframe thead th {\n",
       "        text-align: right;\n",
       "    }\n",
       "</style>\n",
       "<table border=\"1\" class=\"dataframe\">\n",
       "  <thead>\n",
       "    <tr style=\"text-align: right;\">\n",
       "      <th></th>\n",
       "      <th>beer_style</th>\n",
       "      <th>number_of_beers</th>\n",
       "      <th>number_of_reviews</th>\n",
       "      <th>review_overall_mean</th>\n",
       "      <th>review_aroma_mean</th>\n",
       "      <th>review_appearance_mean</th>\n",
       "      <th>aroma_appearance_score</th>\n",
       "      <th>aroma_appearance_overall_score</th>\n",
       "      <th>aroma_appearance_overall_score_norm</th>\n",
       "    </tr>\n",
       "  </thead>\n",
       "  <tbody>\n",
       "    <tr>\n",
       "      <th>11</th>\n",
       "      <td>American Double / Imperial Stout</td>\n",
       "      <td>841</td>\n",
       "      <td>49091</td>\n",
       "      <td>4.028060</td>\n",
       "      <td>4.158736</td>\n",
       "      <td>4.159734</td>\n",
       "      <td>8.318470</td>\n",
       "      <td>8.589363</td>\n",
       "      <td>1.000000</td>\n",
       "    </tr>\n",
       "    <tr>\n",
       "      <th>89</th>\n",
       "      <td>Russian Imperial Stout</td>\n",
       "      <td>702</td>\n",
       "      <td>48149</td>\n",
       "      <td>4.016709</td>\n",
       "      <td>4.065443</td>\n",
       "      <td>4.199610</td>\n",
       "      <td>8.265052</td>\n",
       "      <td>8.503366</td>\n",
       "      <td>0.989988</td>\n",
       "    </tr>\n",
       "    <tr>\n",
       "      <th>9</th>\n",
       "      <td>American Double / Imperial IPA</td>\n",
       "      <td>1369</td>\n",
       "      <td>80845</td>\n",
       "      <td>3.993234</td>\n",
       "      <td>4.089999</td>\n",
       "      <td>4.074927</td>\n",
       "      <td>8.164927</td>\n",
       "      <td>8.347373</td>\n",
       "      <td>0.971827</td>\n",
       "    </tr>\n",
       "    <tr>\n",
       "      <th>86</th>\n",
       "      <td>Quadrupel (Quad)</td>\n",
       "      <td>186</td>\n",
       "      <td>15779</td>\n",
       "      <td>4.060397</td>\n",
       "      <td>4.116357</td>\n",
       "      <td>4.100703</td>\n",
       "      <td>8.217061</td>\n",
       "      <td>8.314469</td>\n",
       "      <td>0.967996</td>\n",
       "    </tr>\n",
       "    <tr>\n",
       "      <th>4</th>\n",
       "      <td>American Barleywine</td>\n",
       "      <td>714</td>\n",
       "      <td>22825</td>\n",
       "      <td>3.883352</td>\n",
       "      <td>4.002015</td>\n",
       "      <td>4.026857</td>\n",
       "      <td>8.028872</td>\n",
       "      <td>8.299890</td>\n",
       "      <td>0.966299</td>\n",
       "    </tr>\n",
       "  </tbody>\n",
       "</table>\n",
       "</div>"
      ],
      "text/plain": [
       "                          beer_style  number_of_beers  number_of_reviews  \\\n",
       "11  American Double / Imperial Stout              841              49091   \n",
       "89            Russian Imperial Stout              702              48149   \n",
       "9     American Double / Imperial IPA             1369              80845   \n",
       "86                  Quadrupel (Quad)              186              15779   \n",
       "4                American Barleywine              714              22825   \n",
       "\n",
       "    review_overall_mean  review_aroma_mean  review_appearance_mean  \\\n",
       "11             4.028060           4.158736                4.159734   \n",
       "89             4.016709           4.065443                4.199610   \n",
       "9              3.993234           4.089999                4.074927   \n",
       "86             4.060397           4.116357                4.100703   \n",
       "4              3.883352           4.002015                4.026857   \n",
       "\n",
       "    aroma_appearance_score  aroma_appearance_overall_score  \\\n",
       "11                8.318470                        8.589363   \n",
       "89                8.265052                        8.503366   \n",
       "9                 8.164927                        8.347373   \n",
       "86                8.217061                        8.314469   \n",
       "4                 8.028872                        8.299890   \n",
       "\n",
       "    aroma_appearance_overall_score_norm  \n",
       "11                             1.000000  \n",
       "89                             0.989988  \n",
       "9                              0.971827  \n",
       "86                             0.967996  \n",
       "4                              0.966299  "
      ]
     },
     "execution_count": 211,
     "metadata": {},
     "output_type": "execute_result"
    }
   ],
   "source": [
    "# simple scoring metric that evaluates aroma and appearance ratings \n",
    "beer_style_rating_df[\"aroma_appearance_score\"] = beer_style_rating_df[[\"review_aroma_mean\",\"review_appearance_mean\"]].sum(axis=1)\n",
    "\n",
    "# metric based on the aroma_appearance_score multiplied by how much the aroma and appearance overindex compared to average\n",
    "beer_style_rating_df[\"aroma_appearance_overall_score\"] = beer_style_rating_df[\"aroma_appearance_score\"]/(beer_style_rating_df[\"review_overall_mean\"]*2)*beer_style_rating_df[\"aroma_appearance_score\"]\n",
    "\n",
    "# normalize score compared to the rest of dataset\n",
    "beer_style_rating_df[\"aroma_appearance_overall_score_norm\"] = beer_style_rating_df[\"aroma_appearance_overall_score\"]/np.max(beer_style_rating_df[\"aroma_appearance_overall_score\"])\n",
    "\n",
    "# filtering mechanism for validity\n",
    "min_beer_threshold = 100\n",
    "min_beer_review_beerstyle_threshold = 100\n",
    "\n",
    "rec2_filter_condition_1 = beer_style_rating_df[\"number_of_reviews\"] >= min_beerstyle_review_threshold\n",
    "rec2_filter_condition_2 = beer_style_rating_df[\"number_of_beers\"] >= min_beer_threshold\n",
    "\n",
    "beer_rec_2 = beer_style_rating_df[rec2_filter_condition_1 & rec2_filter_condition_2]\n",
    "beer_rec_2.nlargest(5,\"aroma_appearance_overall_score_norm\")\n",
    "\n",
    "\n",
    "# beer_style_rating_df\n"
   ]
  },
  {
   "cell_type": "code",
   "execution_count": 212,
   "metadata": {},
   "outputs": [
    {
     "data": {
      "text/plain": [
       "7.329394972574671"
      ]
     },
     "execution_count": 212,
     "metadata": {},
     "output_type": "execute_result"
    }
   ],
   "source": [
    "np.average(beer_rec_2[\"aroma_appearance_overall_score\"])"
   ]
  },
  {
   "cell_type": "markdown",
   "metadata": {},
   "source": [
    "The American Double/ Imperial Stout is recommended as it has the highest aroma and appearance satisfaction as a component to overall satisfaction."
   ]
  },
  {
   "cell_type": "markdown",
   "metadata": {},
   "source": [
    "<h3> Factors determining overall quality </h3>\n",
    "\n",
    "Which of the factors (aroma, taste, appearance, palette) are most important in determining the overall quality of a beer?\n"
   ]
  },
  {
   "cell_type": "code",
   "execution_count": 115,
   "metadata": {},
   "outputs": [
    {
     "data": {
      "text/plain": [
       "Text(0.5, 1.0, 'All data')"
      ]
     },
     "execution_count": 115,
     "metadata": {},
     "output_type": "execute_result"
    },
    {
     "data": {
      "image/png": "[encoded data removed]",
      "text/plain": [
       "<Figure size 648x360 with 2 Axes>"
      ]
     },
     "metadata": {
      "needs_background": "light"
     },
     "output_type": "display_data"
    }
   ],
   "source": [
    "fig2 = plt.figure(figsize=(9,5))\n",
    "    \n",
    "# using all the data\n",
    "plt.subplot(1,2,1)\n",
    "sns.heatmap(beer_df[review_cols].corr()[[\"review_overall\"]].sort_values(by=\"review_overall\",ascending=False), annot=True, fmt=\".2f\")\n",
    "plt.title(\"All data\")\n"
   ]
  },
  {
   "cell_type": "markdown",
   "metadata": {},
   "source": [
    "Taste is most highly correlated to overall reviews."
   ]
  },
  {
   "cell_type": "code",
   "execution_count": 216,
   "metadata": {},
   "outputs": [],
   "source": [
    "beer_reviews_cor_df = beer_df\n",
    "\n",
    "def review_bucket(review_score):\n",
    "    if review_score <= 2.0:\n",
    "        return 'Low'\n",
    "    elif review_score <=4.0:\n",
    "        return 'Med'\n",
    "    elif review_score >4.0:\n",
    "        return 'High'\n",
    "    else:\n",
    "        return 'No score'\n",
    "    \n",
    "review_bucket_col_list = []\n",
    "\n",
    "for r in review_cols:\n",
    "    col_name = str(r) + '_bucket'\n",
    "    beer_reviews_cor_df[col_name] = beer_reviews_cor_df[r].apply(lambda x: review_bucket(x))\n",
    "    review_bucket_col_list.append(col_name)"
   ]
  },
  {
   "cell_type": "code",
   "execution_count": 217,
   "metadata": {},
   "outputs": [],
   "source": [
    "review_bucket = beer_reviews_cor_df[beer_reviews_cor_df[\"review_overall_bucket\"]==\"High\"][review_bucket_col_list]"
   ]
  },
  {
   "cell_type": "code",
   "execution_count": 218,
   "metadata": {},
   "outputs": [
    {
     "data": {
      "text/html": [
       "<div>\n",
       "<style scoped>\n",
       "    .dataframe tbody tr th:only-of-type {\n",
       "        vertical-align: middle;\n",
       "    }\n",
       "\n",
       "    .dataframe tbody tr th {\n",
       "        vertical-align: top;\n",
       "    }\n",
       "\n",
       "    .dataframe thead th {\n",
       "        text-align: right;\n",
       "    }\n",
       "</style>\n",
       "<table border=\"1\" class=\"dataframe\">\n",
       "  <thead>\n",
       "    <tr style=\"text-align: right;\">\n",
       "      <th></th>\n",
       "      <th>Review_type</th>\n",
       "      <th>% high</th>\n",
       "    </tr>\n",
       "  </thead>\n",
       "  <tbody>\n",
       "    <tr>\n",
       "      <th>0</th>\n",
       "      <td>review_aroma</td>\n",
       "      <td>0.445793</td>\n",
       "    </tr>\n",
       "    <tr>\n",
       "      <th>1</th>\n",
       "      <td>review_appearance</td>\n",
       "      <td>0.418143</td>\n",
       "    </tr>\n",
       "    <tr>\n",
       "      <th>2</th>\n",
       "      <td>review_palate</td>\n",
       "      <td>0.477613</td>\n",
       "    </tr>\n",
       "    <tr>\n",
       "      <th>3</th>\n",
       "      <td>review_taste</td>\n",
       "      <td>0.633059</td>\n",
       "    </tr>\n",
       "  </tbody>\n",
       "</table>\n",
       "</div>"
      ],
      "text/plain": [
       "         Review_type    % high\n",
       "0       review_aroma  0.445793\n",
       "1  review_appearance  0.418143\n",
       "2      review_palate  0.477613\n",
       "3       review_taste  0.633059"
      ]
     },
     "execution_count": 218,
     "metadata": {},
     "output_type": "execute_result"
    }
   ],
   "source": [
    "bucket_reviews_summary = pd.DataFrame(columns=[\"Review_type\",\"% high\"])\n",
    "\n",
    "for r in review_cols[1:]:\n",
    "    col = r + \"_bucket\"\n",
    "    bucket_reviews_summary = bucket_reviews_summary.append({\"Review_type\": r,\n",
    "                                                            \"% high\": len(review_bucket[review_bucket[col]==\"High\"])/len(review_bucket[col])},\n",
    "                                                           ignore_index=True)\n",
    "    \n",
    "bucket_reviews_summary\n"
   ]
  },
  {
   "cell_type": "markdown",
   "metadata": {},
   "source": [
    "63.3% of reviewers who give a high taste rating also give a high overall rating."
   ]
  }
 ],
 "metadata": {
  "kernelspec": {
   "display_name": "Python 3",
   "language": "python",
   "name": "python3"
  },
  "language_info": {
   "codemirror_mode": {
    "name": "ipython",
    "version": 3
   },
   "file_extension": ".py",
   "mimetype": "text/x-python",
   "name": "python",
   "nbconvert_exporter": "python",
   "pygments_lexer": "ipython3",
   "version": "3.8.5"
  }
 },
 "nbformat": 4,
 "nbformat_minor": 4
}
